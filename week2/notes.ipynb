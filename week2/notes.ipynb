{
 "cells": [
  {
   "cell_type": "code",
   "execution_count": 50,
   "metadata": {
    "collapsed": true
   },
   "outputs": [],
   "source": [
    "import pandas as pd\n",
    "import numpy as np"
   ]
  },
  {
   "cell_type": "markdown",
   "metadata": {},
   "source": [
    "## QQ2\n",
    " Bookmark this page\n",
    "QQ2\n",
    "0 points possible (ungraded)\n",
    "The table shown below provides you with the actual demand of a product for weeks 1 through 15. You can download this data in the form of a comma separated values file using the link provided below."
   ]
  },
  {
   "cell_type": "code",
   "execution_count": 5,
   "metadata": {
    "collapsed": true
   },
   "outputs": [],
   "source": [
    "data = pd.read_excel('L1V2-data.xlsx', names=['week', 'demand'])"
   ]
  },
  {
   "cell_type": "code",
   "execution_count": 9,
   "metadata": {},
   "outputs": [
    {
     "data": {
      "text/html": [
       "<div>\n",
       "<style>\n",
       "    .dataframe thead tr:only-child th {\n",
       "        text-align: right;\n",
       "    }\n",
       "\n",
       "    .dataframe thead th {\n",
       "        text-align: left;\n",
       "    }\n",
       "\n",
       "    .dataframe tbody tr th {\n",
       "        vertical-align: top;\n",
       "    }\n",
       "</style>\n",
       "<table border=\"1\" class=\"dataframe\">\n",
       "  <thead>\n",
       "    <tr style=\"text-align: right;\">\n",
       "      <th></th>\n",
       "      <th>week</th>\n",
       "      <th>demand</th>\n",
       "    </tr>\n",
       "  </thead>\n",
       "  <tbody>\n",
       "    <tr>\n",
       "      <th>11</th>\n",
       "      <td>Week 12</td>\n",
       "      <td>5.3</td>\n",
       "    </tr>\n",
       "    <tr>\n",
       "      <th>12</th>\n",
       "      <td>Week 13</td>\n",
       "      <td>5.0</td>\n",
       "    </tr>\n",
       "    <tr>\n",
       "      <th>13</th>\n",
       "      <td>Week 14</td>\n",
       "      <td>5.2</td>\n",
       "    </tr>\n",
       "    <tr>\n",
       "      <th>14</th>\n",
       "      <td>Week 15</td>\n",
       "      <td>6.0</td>\n",
       "    </tr>\n",
       "    <tr>\n",
       "      <th>15</th>\n",
       "      <td>Week 16</td>\n",
       "      <td>NaN</td>\n",
       "    </tr>\n",
       "  </tbody>\n",
       "</table>\n",
       "</div>"
      ],
      "text/plain": [
       "       week  demand\n",
       "11  Week 12     5.3\n",
       "12  Week 13     5.0\n",
       "13  Week 14     5.2\n",
       "14  Week 15     6.0\n",
       "15  Week 16     NaN"
      ]
     },
     "execution_count": 9,
     "metadata": {},
     "output_type": "execute_result"
    }
   ],
   "source": [
    "data.tail()"
   ]
  },
  {
   "cell_type": "markdown",
   "metadata": {},
   "source": [
    "$$ \\hat{d_{15,16}} = \\alpha * d_{15} + (1-\\alpha) * \\hat{d_{14,15}} $$\n",
    "$$ \\hat{d_{15,16}} = \\alpha * d_{15} + (1-\\alpha) * (\\alpha * d_{14} + (1-\\alpha) * \\hat{d_{13,14}}) $$\n",
    "$$ = \\alpha * d_{15} + \\alpha(1-\\alpha)*d_{14} + (1-\\alpha)^2 * \\hat{d_{13,14}} = ...$$\n",
    "\n",
    "As you can see, the coefficient for the value for any given week i is as follows:\n",
    "\n",
    "$$ c(i)= \\alpha * (1-\\alpha)^{15-i} $$"
   ]
  },
  {
   "cell_type": "code",
   "execution_count": 17,
   "metadata": {},
   "outputs": [
    {
     "name": "stdout",
     "output_type": "stream",
     "text": [
      "     week  demand  week_num             c\n",
      "0  Week 1     1.0         1  3.348078e-08\n",
      "1  Week 2     4.0         2  1.116026e-07\n",
      "2  Week 3     6.3         3  3.720087e-07\n",
      "3  Week 4     7.8         4  1.240029e-06\n",
      "4  Week 5     8.8         5  4.133430e-06\n"
     ]
    },
    {
     "data": {
      "text/plain": [
       "5.755542420196233"
      ]
     },
     "execution_count": 17,
     "metadata": {},
     "output_type": "execute_result"
    }
   ],
   "source": [
    "data['week_num'] = data['week'].apply(lambda x: int(x.split()[-1]))\n",
    "alpha = 0.7\n",
    "data['c'] = data['week_num'].apply(lambda i: alpha * (1-alpha)**(15-i))\n",
    "data_15_16 = (data['demand'] * data['c']).sum()\n",
    "print(data.head())\n",
    "data_15_16"
   ]
  },
  {
   "cell_type": "markdown",
   "metadata": {},
   "source": [
    "## QQ3\n",
    "0 points possible (ungraded)\n",
    "\n",
    "Consider the data in the table shown below. (This is the same data you saw in the previous video.)\n",
    "\n"
   ]
  },
  {
   "cell_type": "markdown",
   "metadata": {},
   "source": [
    "$$ a_{101} = \\alpha x_{101} + (1-\\alpha)(\\hat{a_{100}} + \\hat{b_{100}}) $$\n"
   ]
  },
  {
   "cell_type": "code",
   "execution_count": 29,
   "metadata": {},
   "outputs": [
    {
     "name": "stdout",
     "output_type": "stream",
     "text": [
      "131.345\n"
     ]
    }
   ],
   "source": [
    "x = dict()\n",
    "a = dict()\n",
    "b = dict()\n",
    "x_hat = dict() # x_hat[t] means the prediction for t+1 at time t\n",
    "\n",
    "x[100] = 92\n",
    "a[100] = 90\n",
    "b[100] = 8.5\n",
    "x_hat[100] = 98.5\n",
    "x[101] = 95\n",
    "\n",
    "alpha = 0.25\n",
    "beta = 0.08\n",
    "tau = 4\n",
    "\n",
    "t=101\n",
    "a[t] = alpha * x[t] + (1-alpha) * (a[t-1] + b[t-1])\n",
    "b[t] = beta * (a[t] - a[t-1]) + (1-beta) * b[t-1]\n",
    "x_hat[105] = a[101] + tau * b[101]\n",
    "\n",
    "print(x_hat[105])"
   ]
  },
  {
   "cell_type": "markdown",
   "metadata": {},
   "source": [
    "## QQ4\n",
    " Bookmark this page\n",
    "QQ4\n",
    "\n",
    "The month of November is over, and by now we know that the actual demand for SKU #VMI1984 during this period was 35 units. Examine the data shown below. You can download it in the form of a comma separated values file using the link provided below."
   ]
  },
  {
   "cell_type": "markdown",
   "metadata": {},
   "source": [
    "### Part 1\n",
    "0 points possible (ungraded)\n",
    "Assume that Alpha=0.25 and Beta = 0.10. Use a level and trend exponential smoothing approach to forecast the demand for December (t=11)."
   ]
  },
  {
   "cell_type": "code",
   "execution_count": 34,
   "metadata": {
    "collapsed": true
   },
   "outputs": [],
   "source": [
    "data = pd.read_excel('L1V4-data.xlsx', header=4)\n",
    "alpha = 0.25\n",
    "beta = 0.1\n",
    "omega = 0.05"
   ]
  },
  {
   "cell_type": "code",
   "execution_count": 35,
   "metadata": {},
   "outputs": [
    {
     "data": {
      "text/html": [
       "<div>\n",
       "<style>\n",
       "    .dataframe thead tr:only-child th {\n",
       "        text-align: right;\n",
       "    }\n",
       "\n",
       "    .dataframe thead th {\n",
       "        text-align: left;\n",
       "    }\n",
       "\n",
       "    .dataframe tbody tr th {\n",
       "        vertical-align: top;\n",
       "    }\n",
       "</style>\n",
       "<table border=\"1\" class=\"dataframe\">\n",
       "  <thead>\n",
       "    <tr style=\"text-align: right;\">\n",
       "      <th></th>\n",
       "      <th>t</th>\n",
       "      <th>x(t)</th>\n",
       "      <th>a^(t)</th>\n",
       "      <th>b^(t)</th>\n",
       "      <th>x^(t,t+1)</th>\n",
       "      <th>e(t)</th>\n",
       "      <th>e(t)^2</th>\n",
       "      <th>MSE</th>\n",
       "    </tr>\n",
       "  </thead>\n",
       "  <tbody>\n",
       "    <tr>\n",
       "      <th>October</th>\n",
       "      <td>9</td>\n",
       "      <td>36</td>\n",
       "      <td>36.82</td>\n",
       "      <td>1.09</td>\n",
       "      <td>37.91</td>\n",
       "      <td>-1.1</td>\n",
       "      <td>1.2</td>\n",
       "      <td>4.52</td>\n",
       "    </tr>\n",
       "    <tr>\n",
       "      <th>November</th>\n",
       "      <td>10</td>\n",
       "      <td>35</td>\n",
       "      <td>NaN</td>\n",
       "      <td>NaN</td>\n",
       "      <td>NaN</td>\n",
       "      <td>NaN</td>\n",
       "      <td>NaN</td>\n",
       "      <td>NaN</td>\n",
       "    </tr>\n",
       "  </tbody>\n",
       "</table>\n",
       "</div>"
      ],
      "text/plain": [
       "           t  x(t)  a^(t)  b^(t)  x^(t,t+1)  e(t)  e(t)^2   MSE\n",
       "October    9    36  36.82   1.09      37.91  -1.1     1.2  4.52\n",
       "November  10    35    NaN    NaN        NaN   NaN     NaN   NaN"
      ]
     },
     "execution_count": 35,
     "metadata": {},
     "output_type": "execute_result"
    }
   ],
   "source": [
    "data"
   ]
  },
  {
   "cell_type": "code",
   "execution_count": 39,
   "metadata": {},
   "outputs": [
    {
     "data": {
      "text/plain": [
       "38.19975"
      ]
     },
     "execution_count": 39,
     "metadata": {},
     "output_type": "execute_result"
    }
   ],
   "source": [
    "a_hat_9 = 36.82\n",
    "b_hat_9 = 1.09\n",
    "x_10 = 35\n",
    "alpha = 0.25\n",
    "beta = 0.1\n",
    "a_hat_10 = alpha * x_10 + (1-alpha) * (a_hat_9+b_hat_9)\n",
    "b_hat_10 = beta * (a_hat_10 - a_hat_9) + (1-beta) * b_hat_9\n",
    "x_hat_10_11 = a_hat_10 + b_hat_10\n",
    "x_hat_10_11"
   ]
  },
  {
   "cell_type": "markdown",
   "metadata": {},
   "source": [
    "### Part 2\n",
    "0 points possible (ungraded)\n",
    "Still assuming Alpha=0.25 and Beta = 0.10, now let Omega=0.05. Use exponential smoothing to forecast the mean square error (MSE) for November (t=10) demand forecast.\n",
    "\n"
   ]
  },
  {
   "cell_type": "code",
   "execution_count": 40,
   "metadata": {},
   "outputs": [
    {
     "data": {
      "text/plain": [
       "4.7174049999999985"
      ]
     },
     "execution_count": 40,
     "metadata": {},
     "output_type": "execute_result"
    }
   ],
   "source": [
    "x_10 = 35\n",
    "x_hat_9_10 = 37.91\n",
    "mse_9 = 4.52\n",
    "omega = 0.05\n",
    "\n",
    "mse_10 = omega * (x_10 - x_hat_9_10) ** 2 + (1-omega) * mse_9\n",
    "mse_10"
   ]
  },
  {
   "cell_type": "code",
   "execution_count": 42,
   "metadata": {},
   "outputs": [
    {
     "data": {
      "text/plain": [
       "36.03205"
      ]
     },
     "execution_count": 42,
     "metadata": {},
     "output_type": "execute_result"
    }
   ],
   "source": [
    "alpha = 0.25\n",
    "beta = 0.1\n",
    "phi = 0.9\n",
    "\n",
    "a_hat_9 = 35.31\n",
    "b_hat_9 = 0.52\n",
    "\n",
    "a_hat_10 = alpha * x_10 + (1-alpha) * (a_hat_9 + phi * b_hat_9)\n",
    "b_hat_10 = beta * (a_hat_10 - a_hat_9) + (1-beta) * phi * b_hat_9\n",
    "x_hat_10_11 = a_hat_10 + b_hat_10\n",
    "x_hat_10_11"
   ]
  },
  {
   "cell_type": "markdown",
   "metadata": {},
   "source": [
    "## PP1: Shah Alam Palm Oil Company\n",
    " Bookmark this page\n",
    "Palm oil is harvested from the fruit of oil palm trees and is widely used as a cooking oil throughout Africa, Southeast Asia, and parts of Brazil.  It is becoming widely used throughout the world as it is a lower cost alternative to other vegetable oils and has other attractive properties.  \n",
    "\n",
    "You are working for the Shah Alam Palm Oil Company (SAPOC) that harvests, processes, and sells palm oil throughout the region.  You are asked to review the sales volume (in pounds) of your premium palm oil by one of your customers, a local grocery store in the region.\n",
    "\n",
    "Download the spreadsheets with the monthly sales volume of palm oil here:\n",
    "\n",
    "In Excel format (link to ShahAlamPalmOil_Data.xlsx)\n",
    "\n",
    "In LibreOffice format (link ShahAlamPalmOil_Data.ods)\n",
    "\n",
    "### Part 1\n",
    "0 points possible (ungraded)\n",
    "Take a look at the data and chart or plot the demand (vertical axis) against the months (horizontal axis). Do you detect any type of trend over the last three years?"
   ]
  },
  {
   "cell_type": "code",
   "execution_count": 78,
   "metadata": {
    "collapsed": true
   },
   "outputs": [],
   "source": [
    "data = pd.read_excel('ShahAlamPalmOil_Data.xlsx', names=['month', 'year', 'demand'])"
   ]
  },
  {
   "cell_type": "code",
   "execution_count": 79,
   "metadata": {},
   "outputs": [
    {
     "data": {
      "text/html": [
       "<div>\n",
       "<style>\n",
       "    .dataframe thead tr:only-child th {\n",
       "        text-align: right;\n",
       "    }\n",
       "\n",
       "    .dataframe thead th {\n",
       "        text-align: left;\n",
       "    }\n",
       "\n",
       "    .dataframe tbody tr th {\n",
       "        vertical-align: top;\n",
       "    }\n",
       "</style>\n",
       "<table border=\"1\" class=\"dataframe\">\n",
       "  <thead>\n",
       "    <tr style=\"text-align: right;\">\n",
       "      <th></th>\n",
       "      <th>month</th>\n",
       "      <th>year</th>\n",
       "      <th>demand</th>\n",
       "    </tr>\n",
       "  </thead>\n",
       "  <tbody>\n",
       "    <tr>\n",
       "      <th>31</th>\n",
       "      <td>Aug</td>\n",
       "      <td>2014</td>\n",
       "      <td>1746</td>\n",
       "    </tr>\n",
       "    <tr>\n",
       "      <th>32</th>\n",
       "      <td>Sep</td>\n",
       "      <td>2014</td>\n",
       "      <td>909</td>\n",
       "    </tr>\n",
       "    <tr>\n",
       "      <th>33</th>\n",
       "      <td>Oct</td>\n",
       "      <td>2014</td>\n",
       "      <td>1773</td>\n",
       "    </tr>\n",
       "    <tr>\n",
       "      <th>34</th>\n",
       "      <td>Nov</td>\n",
       "      <td>2014</td>\n",
       "      <td>2000</td>\n",
       "    </tr>\n",
       "    <tr>\n",
       "      <th>35</th>\n",
       "      <td>Dec</td>\n",
       "      <td>2014</td>\n",
       "      <td>1512</td>\n",
       "    </tr>\n",
       "  </tbody>\n",
       "</table>\n",
       "</div>"
      ],
      "text/plain": [
       "   month  year  demand\n",
       "31   Aug  2014    1746\n",
       "32   Sep  2014     909\n",
       "33   Oct  2014    1773\n",
       "34   Nov  2014    2000\n",
       "35   Dec  2014    1512"
      ]
     },
     "execution_count": 79,
     "metadata": {},
     "output_type": "execute_result"
    }
   ],
   "source": [
    "data.tail()"
   ]
  },
  {
   "cell_type": "code",
   "execution_count": 84,
   "metadata": {},
   "outputs": [
    {
     "data": {
      "text/html": [
       "<div>\n",
       "<style>\n",
       "    .dataframe thead tr:only-child th {\n",
       "        text-align: right;\n",
       "    }\n",
       "\n",
       "    .dataframe thead th {\n",
       "        text-align: left;\n",
       "    }\n",
       "\n",
       "    .dataframe tbody tr th {\n",
       "        vertical-align: top;\n",
       "    }\n",
       "</style>\n",
       "<table border=\"1\" class=\"dataframe\">\n",
       "  <thead>\n",
       "    <tr style=\"text-align: right;\">\n",
       "      <th></th>\n",
       "      <th>month</th>\n",
       "      <th>year</th>\n",
       "      <th>demand</th>\n",
       "      <th>date_str</th>\n",
       "      <th>date</th>\n",
       "    </tr>\n",
       "  </thead>\n",
       "  <tbody>\n",
       "    <tr>\n",
       "      <th>31</th>\n",
       "      <td>Aug</td>\n",
       "      <td>2014</td>\n",
       "      <td>1746</td>\n",
       "      <td>2014-Aug</td>\n",
       "      <td>2014-08-01</td>\n",
       "    </tr>\n",
       "    <tr>\n",
       "      <th>32</th>\n",
       "      <td>Sep</td>\n",
       "      <td>2014</td>\n",
       "      <td>909</td>\n",
       "      <td>2014-Sep</td>\n",
       "      <td>2014-09-01</td>\n",
       "    </tr>\n",
       "    <tr>\n",
       "      <th>33</th>\n",
       "      <td>Oct</td>\n",
       "      <td>2014</td>\n",
       "      <td>1773</td>\n",
       "      <td>2014-Oct</td>\n",
       "      <td>2014-10-01</td>\n",
       "    </tr>\n",
       "    <tr>\n",
       "      <th>34</th>\n",
       "      <td>Nov</td>\n",
       "      <td>2014</td>\n",
       "      <td>2000</td>\n",
       "      <td>2014-Nov</td>\n",
       "      <td>2014-11-01</td>\n",
       "    </tr>\n",
       "    <tr>\n",
       "      <th>35</th>\n",
       "      <td>Dec</td>\n",
       "      <td>2014</td>\n",
       "      <td>1512</td>\n",
       "      <td>2014-Dec</td>\n",
       "      <td>2014-12-01</td>\n",
       "    </tr>\n",
       "  </tbody>\n",
       "</table>\n",
       "</div>"
      ],
      "text/plain": [
       "   month  year  demand  date_str       date\n",
       "31   Aug  2014    1746  2014-Aug 2014-08-01\n",
       "32   Sep  2014     909  2014-Sep 2014-09-01\n",
       "33   Oct  2014    1773  2014-Oct 2014-10-01\n",
       "34   Nov  2014    2000  2014-Nov 2014-11-01\n",
       "35   Dec  2014    1512  2014-Dec 2014-12-01"
      ]
     },
     "execution_count": 84,
     "metadata": {},
     "output_type": "execute_result"
    }
   ],
   "source": [
    "%matplotlib inline\n",
    "import matplotlib\n",
    "import numpy as np\n",
    "import matplotlib.pyplot as plt\n",
    "\n",
    "data['date_str'] = data[['year', 'month']].apply(lambda x: '-'.join([str(e) for e in x]), axis=1)\n",
    "data['date'] = pd.to_datetime(data['date_str'])\n",
    "data.sort_values(by=['date'], inplace=True)\n",
    "data.tail()"
   ]
  },
  {
   "cell_type": "code",
   "execution_count": 85,
   "metadata": {},
   "outputs": [
    {
     "data": {
      "image/png": "[encoded data removed]",
      "text/plain": [
       "<matplotlib.figure.Figure at 0x1160f2908>"
      ]
     },
     "metadata": {},
     "output_type": "display_data"
    }
   ],
   "source": [
    "plt.plot(data['date'], data['demand'])\n",
    "plt.xticks(rotation=30)\n",
    "plt.show()"
   ]
  },
  {
   "cell_type": "markdown",
   "metadata": {},
   "source": [
    "### Part 3\n",
    "0 points possible (ungraded)\n",
    "What is the forecast for demand in January 2015 . . .\n",
    "\n",
    "using a naive model?"
   ]
  },
  {
   "cell_type": "code",
   "execution_count": 88,
   "metadata": {},
   "outputs": [
    {
     "name": "stdout",
     "output_type": "stream",
     "text": [
      "35    1512\n",
      "Name: demand, dtype: int64\n",
      "957.9444444444445\n",
      "1173.6666666666667\n"
     ]
    }
   ],
   "source": [
    "pred_naive = data.tail(1)['demand']\n",
    "print(pred_naive)\n",
    "pred_cumulative = data['demand'].mean()\n",
    "print(pred_cumulative)\n",
    "pred_moving_average = data['demand'][-12:].mean()\n",
    "print(pred_moving_average)"
   ]
  },
  {
   "cell_type": "markdown",
   "metadata": {},
   "source": [
    "### Part 4\n",
    "What is the root mean square error (RMSE) for a next period forecast for these three years of demand . . .\n",
    "\n",
    "using a Naive model?"
   ]
  },
  {
   "cell_type": "code",
   "execution_count": 143,
   "metadata": {},
   "outputs": [
    {
     "name": "stdout",
     "output_type": "stream",
     "text": [
      "383.728177602\n"
     ]
    }
   ],
   "source": [
    "data['pred_naive'] = data['demand'].shift(1)\n",
    "mse = ((data['demand'] - data['pred_naive'])**2)\n",
    "print(np.sqrt(mse.mean()))"
   ]
  },
  {
   "cell_type": "code",
   "execution_count": 154,
   "metadata": {},
   "outputs": [
    {
     "name": "stdout",
     "output_type": "stream",
     "text": [
      "419.885131575\n"
     ]
    }
   ],
   "source": [
    "def myfunc(row):\n",
    "    idx = row.name\n",
    "    pred = data['demand'][:idx].mean()\n",
    "    return pred\n",
    "data['pred_cum'] = data.apply(myfunc, axis=1)\n",
    "mse = ((data['demand'] - data['pred_cum'])**2)\n",
    "print(np.sqrt(mse.mean()))"
   ]
  },
  {
   "cell_type": "code",
   "execution_count": 150,
   "metadata": {},
   "outputs": [
    {
     "data": {
      "text/html": [
       "<div>\n",
       "<style>\n",
       "    .dataframe thead tr:only-child th {\n",
       "        text-align: right;\n",
       "    }\n",
       "\n",
       "    .dataframe thead th {\n",
       "        text-align: left;\n",
       "    }\n",
       "\n",
       "    .dataframe tbody tr th {\n",
       "        vertical-align: top;\n",
       "    }\n",
       "</style>\n",
       "<table border=\"1\" class=\"dataframe\">\n",
       "  <thead>\n",
       "    <tr style=\"text-align: right;\">\n",
       "      <th></th>\n",
       "      <th>month</th>\n",
       "      <th>year</th>\n",
       "      <th>demand</th>\n",
       "      <th>date_str</th>\n",
       "      <th>date</th>\n",
       "      <th>pred_naive</th>\n",
       "      <th>pred_cum</th>\n",
       "      <th>pred_12mv</th>\n",
       "    </tr>\n",
       "  </thead>\n",
       "  <tbody>\n",
       "    <tr>\n",
       "      <th>31</th>\n",
       "      <td>Aug</td>\n",
       "      <td>2014</td>\n",
       "      <td>1746</td>\n",
       "      <td>2014-Aug</td>\n",
       "      <td>2014-08-01</td>\n",
       "      <td>1560.0</td>\n",
       "      <td>856.322581</td>\n",
       "      <td>963.583333</td>\n",
       "    </tr>\n",
       "    <tr>\n",
       "      <th>32</th>\n",
       "      <td>Sep</td>\n",
       "      <td>2014</td>\n",
       "      <td>909</td>\n",
       "      <td>2014-Sep</td>\n",
       "      <td>2014-09-01</td>\n",
       "      <td>1746.0</td>\n",
       "      <td>884.125000</td>\n",
       "      <td>981.583333</td>\n",
       "    </tr>\n",
       "    <tr>\n",
       "      <th>33</th>\n",
       "      <td>Oct</td>\n",
       "      <td>2014</td>\n",
       "      <td>1773</td>\n",
       "      <td>2014-Oct</td>\n",
       "      <td>2014-10-01</td>\n",
       "      <td>909.0</td>\n",
       "      <td>884.878788</td>\n",
       "      <td>984.583333</td>\n",
       "    </tr>\n",
       "    <tr>\n",
       "      <th>34</th>\n",
       "      <td>Nov</td>\n",
       "      <td>2014</td>\n",
       "      <td>2000</td>\n",
       "      <td>2014-Nov</td>\n",
       "      <td>2014-11-01</td>\n",
       "      <td>1773.0</td>\n",
       "      <td>911.000000</td>\n",
       "      <td>1051.000000</td>\n",
       "    </tr>\n",
       "    <tr>\n",
       "      <th>35</th>\n",
       "      <td>Dec</td>\n",
       "      <td>2014</td>\n",
       "      <td>1512</td>\n",
       "      <td>2014-Dec</td>\n",
       "      <td>2014-12-01</td>\n",
       "      <td>2000.0</td>\n",
       "      <td>942.114286</td>\n",
       "      <td>1165.666667</td>\n",
       "    </tr>\n",
       "  </tbody>\n",
       "</table>\n",
       "</div>"
      ],
      "text/plain": [
       "   month  year  demand  date_str       date  pred_naive    pred_cum  \\\n",
       "31   Aug  2014    1746  2014-Aug 2014-08-01      1560.0  856.322581   \n",
       "32   Sep  2014     909  2014-Sep 2014-09-01      1746.0  884.125000   \n",
       "33   Oct  2014    1773  2014-Oct 2014-10-01       909.0  884.878788   \n",
       "34   Nov  2014    2000  2014-Nov 2014-11-01      1773.0  911.000000   \n",
       "35   Dec  2014    1512  2014-Dec 2014-12-01      2000.0  942.114286   \n",
       "\n",
       "      pred_12mv  \n",
       "31   963.583333  \n",
       "32   981.583333  \n",
       "33   984.583333  \n",
       "34  1051.000000  \n",
       "35  1165.666667  "
      ]
     },
     "execution_count": 150,
     "metadata": {},
     "output_type": "execute_result"
    }
   ],
   "source": [
    "data.tail()"
   ]
  },
  {
   "cell_type": "code",
   "execution_count": 151,
   "metadata": {},
   "outputs": [
    {
     "name": "stdout",
     "output_type": "stream",
     "text": [
      "419.885131575\n"
     ]
    }
   ],
   "source": [
    "mse = (data['demand'] - data['pred_cum'])**2\n",
    "print(np.sqrt(mse.mean()))"
   ]
  },
  {
   "cell_type": "code",
   "execution_count": 155,
   "metadata": {
    "collapsed": true
   },
   "outputs": [],
   "source": [
    "def myfunc(row):\n",
    "    idx = row.name\n",
    "    if idx <=11:\n",
    "        return None\n",
    "    return data['demand'][idx-12:idx].mean()\n",
    "\n",
    "data['pred_12mv'] = data.apply(myfunc, axis=1)"
   ]
  },
  {
   "cell_type": "code",
   "execution_count": 156,
   "metadata": {},
   "outputs": [
    {
     "data": {
      "text/plain": [
       "423.32999164800941"
      ]
     },
     "execution_count": 156,
     "metadata": {},
     "output_type": "execute_result"
    }
   ],
   "source": [
    "error = data['demand'] - data['pred_12mv']\n",
    "np.sqrt((error**2).mean())"
   ]
  },
  {
   "cell_type": "markdown",
   "metadata": {},
   "source": [
    "## PP2: Forecasting Ordroid Demand\n",
    " Bookmark this page\n",
    "You have just been hired by a company that manufactures mid-range communication devices that use the Ordroid open source operating system.  The company is focused on innovating its products and has not put much thought on its inventory or forecasting capabilities.   Your boss thinks there might be a problem in the forecasting of the Ordroid Devices and wants you to figure it out.  The Ordroid, far from being new to the market, has been out for two years. \n",
    "\n",
    "Knowing this, you have asked for data on both years of historical sales as well as any forecasts, promotions, pricing changes, or competitive analyses made during this time.  Your boss laughs and provides you with all the data they have: the last six months of sales.  You ask to meet with the current demand planner for the Ordroid Devices and she tells you that they use a forecasting algorithm of her own design and there is no documentation.  \n",
    "\n",
    "Download the spreadsheets with the data here:\n",
    "\n",
    "In Excel format (link to Ordroid_Data.xlsx)\n",
    "\n",
    "In LibreOffice format (link Ordroid_Data.ods)\n",
    "\n",
    "### Part 1\n",
    "\n",
    "What can you say about the presence of seasonality in the demand?"
   ]
  },
  {
   "cell_type": "code",
   "execution_count": 182,
   "metadata": {},
   "outputs": [
    {
     "data": {
      "text/html": [
       "<div>\n",
       "<style>\n",
       "    .dataframe thead tr:only-child th {\n",
       "        text-align: right;\n",
       "    }\n",
       "\n",
       "    .dataframe thead th {\n",
       "        text-align: left;\n",
       "    }\n",
       "\n",
       "    .dataframe tbody tr th {\n",
       "        vertical-align: top;\n",
       "    }\n",
       "</style>\n",
       "<table border=\"1\" class=\"dataframe\">\n",
       "  <thead>\n",
       "    <tr style=\"text-align: right;\">\n",
       "      <th></th>\n",
       "      <th>month</th>\n",
       "      <th>actual</th>\n",
       "      <th>forecast</th>\n",
       "    </tr>\n",
       "  </thead>\n",
       "  <tbody>\n",
       "    <tr>\n",
       "      <th>0</th>\n",
       "      <td>May</td>\n",
       "      <td>1509</td>\n",
       "      <td>1900</td>\n",
       "    </tr>\n",
       "    <tr>\n",
       "      <th>1</th>\n",
       "      <td>June</td>\n",
       "      <td>1610</td>\n",
       "      <td>1200</td>\n",
       "    </tr>\n",
       "    <tr>\n",
       "      <th>2</th>\n",
       "      <td>July</td>\n",
       "      <td>1708</td>\n",
       "      <td>2100</td>\n",
       "    </tr>\n",
       "    <tr>\n",
       "      <th>3</th>\n",
       "      <td>August</td>\n",
       "      <td>1866</td>\n",
       "      <td>1300</td>\n",
       "    </tr>\n",
       "    <tr>\n",
       "      <th>4</th>\n",
       "      <td>September</td>\n",
       "      <td>2092</td>\n",
       "      <td>2500</td>\n",
       "    </tr>\n",
       "  </tbody>\n",
       "</table>\n",
       "</div>"
      ],
      "text/plain": [
       "       month  actual  forecast\n",
       "0        May    1509      1900\n",
       "1       June    1610      1200\n",
       "2       July    1708      2100\n",
       "3     August    1866      1300\n",
       "4  September    2092      2500"
      ]
     },
     "execution_count": 182,
     "metadata": {},
     "output_type": "execute_result"
    }
   ],
   "source": [
    "data = pd.read_excel('Ordroid_Data.xlsx', names=['month', 'actual', 'forecast'])\n",
    "# data['date'] = data['month'].apply(lambda x: '2016' + x)\n",
    "data.head()"
   ]
  },
  {
   "cell_type": "code",
   "execution_count": 172,
   "metadata": {
    "collapsed": true
   },
   "outputs": [],
   "source": [
    "data['date'] = pd.to_datetime(data['month'], format='%B')"
   ]
  },
  {
   "cell_type": "code",
   "execution_count": 180,
   "metadata": {},
   "outputs": [
    {
     "data": {
      "text/plain": [
       "[<matplotlib.lines.Line2D at 0x1163fbe10>]"
      ]
     },
     "execution_count": 180,
     "metadata": {},
     "output_type": "execute_result"
    },
    {
     "data": {
      "image/png": "[encoded data removed]",
      "text/plain": [
       "<matplotlib.figure.Figure at 0x1163fbe48>"
      ]
     },
     "metadata": {},
     "output_type": "display_data"
    }
   ],
   "source": [
    "plt.plot(data['date'], data['actual'], label=\"demand\")\n",
    "plt.plot(data['date'], data['forecast'], label=\"forecast\")"
   ]
  },
  {
   "cell_type": "markdown",
   "metadata": {},
   "source": [
    "## PP3: Call Center Demand\n",
    " Bookmark this page\n",
    "PP3: Call Center Demand\n",
    "The number of service calls made to your firm’s call center over the last six weeks is shown in the table below.\n",
    "\n",
    "\n",
    "\n",
    "### Part 1\n",
    "0 points possible (ungraded)\n",
    "What is the forecast for week 7 using a 2 period Moving Average model?"
   ]
  },
  {
   "cell_type": "code",
   "execution_count": 214,
   "metadata": {},
   "outputs": [
    {
     "name": "stdout",
     "output_type": "stream",
     "text": [
      "109.0\n"
     ]
    }
   ],
   "source": [
    "x = [83.0, 106.0, 95.0, 91.0, 110.0, 108.0]\n",
    "print(np.sum(x[-2:])/2)"
   ]
  },
  {
   "cell_type": "code",
   "execution_count": 216,
   "metadata": {},
   "outputs": [
    {
     "name": "stdout",
     "output_type": "stream",
     "text": [
      "12\n",
      "[83.0, 106.0, 95.0, 91.0, 110.0, 108.0, 109.0, 108.5, 108.75, 108.625, 108.6875, 108.65625]\n"
     ]
    }
   ],
   "source": [
    "for i in range(len(x), 12):\n",
    "    x_next = (np.sum(x[-2:])) / 2\n",
    "    x.append(x_next)\n",
    "    print(len(x))\n",
    "    print(x)"
   ]
  },
  {
   "cell_type": "code",
   "execution_count": 218,
   "metadata": {},
   "outputs": [
    {
     "name": "stdout",
     "output_type": "stream",
     "text": [
      "109.0\n"
     ]
    }
   ],
   "source": [
    "x = [83.0, 106.0, 95.0, 91.0, 110.0, 108.0]\n",
    "x[0] = 110\n",
    "print(np.sum(x[-2:])/2)"
   ]
  },
  {
   "cell_type": "markdown",
   "metadata": {},
   "source": [
    "## PP4: TrainMax\n",
    " Bookmark this page\n",
    "TrainMax is a manufacturer of high-end specialty engine equipment for high speed trains.  They produce parts that are sent to manufacturers for manufacturing new engines.  They need to forecast the demand for a particular part, XC-288. \n",
    "\n",
    "You can download the spreadsheets with the recent demand data for XC-288 from here (link to TrainMax_Data.xlsx).\n",
    "\n",
    "### Part 1\n",
    "0 points possible (ungraded)\n",
    "What is the coefficient of variation of the demand?"
   ]
  },
  {
   "cell_type": "code",
   "execution_count": 224,
   "metadata": {},
   "outputs": [
    {
     "data": {
      "text/html": [
       "<div>\n",
       "<style>\n",
       "    .dataframe thead tr:only-child th {\n",
       "        text-align: right;\n",
       "    }\n",
       "\n",
       "    .dataframe thead th {\n",
       "        text-align: left;\n",
       "    }\n",
       "\n",
       "    .dataframe tbody tr th {\n",
       "        vertical-align: top;\n",
       "    }\n",
       "</style>\n",
       "<table border=\"1\" class=\"dataframe\">\n",
       "  <thead>\n",
       "    <tr style=\"text-align: right;\">\n",
       "      <th></th>\n",
       "      <th>period</th>\n",
       "      <th>actual</th>\n",
       "    </tr>\n",
       "  </thead>\n",
       "  <tbody>\n",
       "    <tr>\n",
       "      <th>0</th>\n",
       "      <td>1</td>\n",
       "      <td>1027</td>\n",
       "    </tr>\n",
       "    <tr>\n",
       "      <th>1</th>\n",
       "      <td>2</td>\n",
       "      <td>1008</td>\n",
       "    </tr>\n",
       "    <tr>\n",
       "      <th>2</th>\n",
       "      <td>3</td>\n",
       "      <td>1130</td>\n",
       "    </tr>\n",
       "    <tr>\n",
       "      <th>3</th>\n",
       "      <td>4</td>\n",
       "      <td>1182</td>\n",
       "    </tr>\n",
       "    <tr>\n",
       "      <th>4</th>\n",
       "      <td>5</td>\n",
       "      <td>1074</td>\n",
       "    </tr>\n",
       "  </tbody>\n",
       "</table>\n",
       "</div>"
      ],
      "text/plain": [
       "   period  actual\n",
       "0       1    1027\n",
       "1       2    1008\n",
       "2       3    1130\n",
       "3       4    1182\n",
       "4       5    1074"
      ]
     },
     "execution_count": 224,
     "metadata": {},
     "output_type": "execute_result"
    }
   ],
   "source": [
    "data = pd.read_excel('TrainMax_Data.xlsx', names=['period', 'actual'])\n",
    "data.head()"
   ]
  },
  {
   "cell_type": "code",
   "execution_count": 228,
   "metadata": {},
   "outputs": [
    {
     "name": "stdout",
     "output_type": "stream",
     "text": [
      "0.0547293994391\n",
      "0.05472939943912606\n"
     ]
    }
   ],
   "source": [
    "import scipy.stats\n",
    "var = scipy.stats.variation(data['actual'])\n",
    "print(var)\n",
    "print(np.std(data['actual'])/np.mean(data['actual']))"
   ]
  },
  {
   "cell_type": "code",
   "execution_count": 229,
   "metadata": {},
   "outputs": [
    {
     "data": {
      "text/html": [
       "<div>\n",
       "<style>\n",
       "    .dataframe thead tr:only-child th {\n",
       "        text-align: right;\n",
       "    }\n",
       "\n",
       "    .dataframe thead th {\n",
       "        text-align: left;\n",
       "    }\n",
       "\n",
       "    .dataframe tbody tr th {\n",
       "        vertical-align: top;\n",
       "    }\n",
       "</style>\n",
       "<table border=\"1\" class=\"dataframe\">\n",
       "  <thead>\n",
       "    <tr style=\"text-align: right;\">\n",
       "      <th></th>\n",
       "      <th>period</th>\n",
       "      <th>actual</th>\n",
       "    </tr>\n",
       "  </thead>\n",
       "  <tbody>\n",
       "    <tr>\n",
       "      <th>9</th>\n",
       "      <td>10</td>\n",
       "      <td>1110</td>\n",
       "    </tr>\n",
       "    <tr>\n",
       "      <th>10</th>\n",
       "      <td>11</td>\n",
       "      <td>1014</td>\n",
       "    </tr>\n",
       "    <tr>\n",
       "      <th>11</th>\n",
       "      <td>12</td>\n",
       "      <td>1149</td>\n",
       "    </tr>\n",
       "    <tr>\n",
       "      <th>12</th>\n",
       "      <td>13</td>\n",
       "      <td>1121</td>\n",
       "    </tr>\n",
       "    <tr>\n",
       "      <th>13</th>\n",
       "      <td>14</td>\n",
       "      <td>1169</td>\n",
       "    </tr>\n",
       "  </tbody>\n",
       "</table>\n",
       "</div>"
      ],
      "text/plain": [
       "    period  actual\n",
       "9       10    1110\n",
       "10      11    1014\n",
       "11      12    1149\n",
       "12      13    1121\n",
       "13      14    1169"
      ]
     },
     "execution_count": 229,
     "metadata": {},
     "output_type": "execute_result"
    }
   ],
   "source": [
    "data.tail()"
   ]
  },
  {
   "cell_type": "code",
   "execution_count": 230,
   "metadata": {},
   "outputs": [
    {
     "data": {
      "text/plain": [
       "1103.7857142857142"
      ]
     },
     "execution_count": 230,
     "metadata": {},
     "output_type": "execute_result"
    }
   ],
   "source": [
    "data['actual'].mean()"
   ]
  },
  {
   "cell_type": "code",
   "execution_count": 231,
   "metadata": {},
   "outputs": [
    {
     "data": {
      "text/plain": [
       "1145.0"
      ]
     },
     "execution_count": 231,
     "metadata": {},
     "output_type": "execute_result"
    }
   ],
   "source": [
    "data['actual'][-2:].mean()"
   ]
  },
  {
   "cell_type": "code",
   "execution_count": 241,
   "metadata": {},
   "outputs": [
    {
     "data": {
      "text/plain": [
       "1113.25"
      ]
     },
     "execution_count": 241,
     "metadata": {},
     "output_type": "execute_result"
    }
   ],
   "source": [
    "data['actual'][-4:].mean()"
   ]
  },
  {
   "cell_type": "code",
   "execution_count": 266,
   "metadata": {},
   "outputs": [
    {
     "data": {
      "text/html": [
       "<div>\n",
       "<style>\n",
       "    .dataframe thead tr:only-child th {\n",
       "        text-align: right;\n",
       "    }\n",
       "\n",
       "    .dataframe thead th {\n",
       "        text-align: left;\n",
       "    }\n",
       "\n",
       "    .dataframe tbody tr th {\n",
       "        vertical-align: top;\n",
       "    }\n",
       "</style>\n",
       "<table border=\"1\" class=\"dataframe\">\n",
       "  <thead>\n",
       "    <tr style=\"text-align: right;\">\n",
       "      <th></th>\n",
       "      <th>period</th>\n",
       "      <th>actual</th>\n",
       "      <th>fc_naive</th>\n",
       "      <th>fc_cum</th>\n",
       "      <th>f_2ma</th>\n",
       "      <th>f_4ma</th>\n",
       "      <th>fc_2ma</th>\n",
       "      <th>fc_4ma</th>\n",
       "      <th>fc_n</th>\n",
       "    </tr>\n",
       "  </thead>\n",
       "  <tbody>\n",
       "    <tr>\n",
       "      <th>0</th>\n",
       "      <td>1</td>\n",
       "      <td>1027</td>\n",
       "      <td>NaN</td>\n",
       "      <td>NaN</td>\n",
       "      <td>NaN</td>\n",
       "      <td>NaN</td>\n",
       "      <td>NaN</td>\n",
       "      <td>NaN</td>\n",
       "      <td>NaN</td>\n",
       "    </tr>\n",
       "    <tr>\n",
       "      <th>1</th>\n",
       "      <td>2</td>\n",
       "      <td>1008</td>\n",
       "      <td>1027.0</td>\n",
       "      <td>1027.000000</td>\n",
       "      <td>NaN</td>\n",
       "      <td>NaN</td>\n",
       "      <td>NaN</td>\n",
       "      <td>NaN</td>\n",
       "      <td>1027.0</td>\n",
       "    </tr>\n",
       "    <tr>\n",
       "      <th>2</th>\n",
       "      <td>3</td>\n",
       "      <td>1130</td>\n",
       "      <td>1008.0</td>\n",
       "      <td>1017.500000</td>\n",
       "      <td>1103.785714</td>\n",
       "      <td>NaN</td>\n",
       "      <td>1017.5</td>\n",
       "      <td>NaN</td>\n",
       "      <td>1008.0</td>\n",
       "    </tr>\n",
       "    <tr>\n",
       "      <th>3</th>\n",
       "      <td>4</td>\n",
       "      <td>1182</td>\n",
       "      <td>1130.0</td>\n",
       "      <td>1055.000000</td>\n",
       "      <td>1109.692308</td>\n",
       "      <td>NaN</td>\n",
       "      <td>1069.0</td>\n",
       "      <td>NaN</td>\n",
       "      <td>1130.0</td>\n",
       "    </tr>\n",
       "    <tr>\n",
       "      <th>4</th>\n",
       "      <td>5</td>\n",
       "      <td>1074</td>\n",
       "      <td>1182.0</td>\n",
       "      <td>1086.750000</td>\n",
       "      <td>1118.166667</td>\n",
       "      <td>1103.785714</td>\n",
       "      <td>1156.0</td>\n",
       "      <td>1086.75</td>\n",
       "      <td>1182.0</td>\n",
       "    </tr>\n",
       "    <tr>\n",
       "      <th>5</th>\n",
       "      <td>6</td>\n",
       "      <td>1189</td>\n",
       "      <td>1074.0</td>\n",
       "      <td>1084.200000</td>\n",
       "      <td>1117.090909</td>\n",
       "      <td>1109.692308</td>\n",
       "      <td>1128.0</td>\n",
       "      <td>1098.50</td>\n",
       "      <td>1074.0</td>\n",
       "    </tr>\n",
       "    <tr>\n",
       "      <th>6</th>\n",
       "      <td>7</td>\n",
       "      <td>1043</td>\n",
       "      <td>1189.0</td>\n",
       "      <td>1101.666667</td>\n",
       "      <td>1110.600000</td>\n",
       "      <td>1118.166667</td>\n",
       "      <td>1131.5</td>\n",
       "      <td>1143.75</td>\n",
       "      <td>1189.0</td>\n",
       "    </tr>\n",
       "    <tr>\n",
       "      <th>7</th>\n",
       "      <td>8</td>\n",
       "      <td>1085</td>\n",
       "      <td>1043.0</td>\n",
       "      <td>1093.285714</td>\n",
       "      <td>1114.666667</td>\n",
       "      <td>1117.090909</td>\n",
       "      <td>1116.0</td>\n",
       "      <td>1122.00</td>\n",
       "      <td>1043.0</td>\n",
       "    </tr>\n",
       "    <tr>\n",
       "      <th>8</th>\n",
       "      <td>9</td>\n",
       "      <td>1152</td>\n",
       "      <td>1085.0</td>\n",
       "      <td>1092.250000</td>\n",
       "      <td>1105.375000</td>\n",
       "      <td>1110.600000</td>\n",
       "      <td>1064.0</td>\n",
       "      <td>1097.75</td>\n",
       "      <td>1085.0</td>\n",
       "    </tr>\n",
       "    <tr>\n",
       "      <th>9</th>\n",
       "      <td>10</td>\n",
       "      <td>1110</td>\n",
       "      <td>1152.0</td>\n",
       "      <td>1098.888889</td>\n",
       "      <td>1114.285714</td>\n",
       "      <td>1114.666667</td>\n",
       "      <td>1118.5</td>\n",
       "      <td>1117.25</td>\n",
       "      <td>1152.0</td>\n",
       "    </tr>\n",
       "    <tr>\n",
       "      <th>10</th>\n",
       "      <td>11</td>\n",
       "      <td>1014</td>\n",
       "      <td>1110.0</td>\n",
       "      <td>1100.000000</td>\n",
       "      <td>1119.166667</td>\n",
       "      <td>1105.375000</td>\n",
       "      <td>1131.0</td>\n",
       "      <td>1097.50</td>\n",
       "      <td>1110.0</td>\n",
       "    </tr>\n",
       "    <tr>\n",
       "      <th>11</th>\n",
       "      <td>12</td>\n",
       "      <td>1149</td>\n",
       "      <td>1014.0</td>\n",
       "      <td>1092.181818</td>\n",
       "      <td>1112.600000</td>\n",
       "      <td>1114.285714</td>\n",
       "      <td>1062.0</td>\n",
       "      <td>1090.25</td>\n",
       "      <td>1014.0</td>\n",
       "    </tr>\n",
       "    <tr>\n",
       "      <th>12</th>\n",
       "      <td>13</td>\n",
       "      <td>1121</td>\n",
       "      <td>1149.0</td>\n",
       "      <td>1096.916667</td>\n",
       "      <td>1113.250000</td>\n",
       "      <td>1119.166667</td>\n",
       "      <td>1081.5</td>\n",
       "      <td>1106.25</td>\n",
       "      <td>1149.0</td>\n",
       "    </tr>\n",
       "    <tr>\n",
       "      <th>13</th>\n",
       "      <td>14</td>\n",
       "      <td>1169</td>\n",
       "      <td>1121.0</td>\n",
       "      <td>1098.769231</td>\n",
       "      <td>1146.333333</td>\n",
       "      <td>1112.600000</td>\n",
       "      <td>1135.0</td>\n",
       "      <td>1098.50</td>\n",
       "      <td>1121.0</td>\n",
       "    </tr>\n",
       "  </tbody>\n",
       "</table>\n",
       "</div>"
      ],
      "text/plain": [
       "    period  actual  fc_naive       fc_cum        f_2ma        f_4ma  fc_2ma  \\\n",
       "0        1    1027       NaN          NaN          NaN          NaN     NaN   \n",
       "1        2    1008    1027.0  1027.000000          NaN          NaN     NaN   \n",
       "2        3    1130    1008.0  1017.500000  1103.785714          NaN  1017.5   \n",
       "3        4    1182    1130.0  1055.000000  1109.692308          NaN  1069.0   \n",
       "4        5    1074    1182.0  1086.750000  1118.166667  1103.785714  1156.0   \n",
       "5        6    1189    1074.0  1084.200000  1117.090909  1109.692308  1128.0   \n",
       "6        7    1043    1189.0  1101.666667  1110.600000  1118.166667  1131.5   \n",
       "7        8    1085    1043.0  1093.285714  1114.666667  1117.090909  1116.0   \n",
       "8        9    1152    1085.0  1092.250000  1105.375000  1110.600000  1064.0   \n",
       "9       10    1110    1152.0  1098.888889  1114.285714  1114.666667  1118.5   \n",
       "10      11    1014    1110.0  1100.000000  1119.166667  1105.375000  1131.0   \n",
       "11      12    1149    1014.0  1092.181818  1112.600000  1114.285714  1062.0   \n",
       "12      13    1121    1149.0  1096.916667  1113.250000  1119.166667  1081.5   \n",
       "13      14    1169    1121.0  1098.769231  1146.333333  1112.600000  1135.0   \n",
       "\n",
       "     fc_4ma    fc_n  \n",
       "0       NaN     NaN  \n",
       "1       NaN  1027.0  \n",
       "2       NaN  1008.0  \n",
       "3       NaN  1130.0  \n",
       "4   1086.75  1182.0  \n",
       "5   1098.50  1074.0  \n",
       "6   1143.75  1189.0  \n",
       "7   1122.00  1043.0  \n",
       "8   1097.75  1085.0  \n",
       "9   1117.25  1152.0  \n",
       "10  1097.50  1110.0  \n",
       "11  1090.25  1014.0  \n",
       "12  1106.25  1149.0  \n",
       "13  1098.50  1121.0  "
      ]
     },
     "execution_count": 266,
     "metadata": {},
     "output_type": "execute_result"
    }
   ],
   "source": [
    "def f_naive(r):\n",
    "    if r.name-1 < 0:\n",
    "        return None\n",
    "    return data['actual'][r.name-1].mean()\n",
    "data['fc_n'] = data.apply(f_naive, axis=1)\n",
    "\n",
    "\n",
    "def f_cum(r):\n",
    "    return data['actual'][:r.name].mean()\n",
    "data['fc_cum'] = data.apply(f_cum, axis=1)\n",
    "\n",
    "def f_2ma(r):\n",
    "    if r.name-2 < 0:\n",
    "        return None\n",
    "    return data['actual'][r.name-2:r.name].mean()\n",
    "data['fc_2ma'] = data.apply(f_2ma, axis=1)\n",
    "\n",
    "def f_4ma(r):\n",
    "    if r.name-4 < 0:\n",
    "        return None\n",
    "    return data['actual'][r.name-4:r.name].mean()\n",
    "data['fc_4ma'] = data.apply(f_4ma, axis=1)\n",
    "\n",
    "def mape(f, a):\n",
    "    return 100 * np.abs((f-a)/a).mean()\n",
    "\n",
    "data"
   ]
  },
  {
   "cell_type": "code",
   "execution_count": 267,
   "metadata": {},
   "outputs": [
    {
     "name": "stdout",
     "output_type": "stream",
     "text": [
      "7.084462744930285\n",
      "5.13422811301949\n",
      "6.464208239735962\n",
      "4.792515837044496\n"
     ]
    }
   ],
   "source": [
    "print(mape(data['fc_n'], data['actual']))\n",
    "print(mape(data['fc_cum'], data['actual']))\n",
    "print(mape(data['fc_2ma'], data['actual']))\n",
    "print(mape(data['fc_4ma'], data['actual']))"
   ]
  },
  {
   "cell_type": "markdown",
   "metadata": {},
   "source": [
    "## PP5: Calculators at the MIT Coop\n",
    "\n",
    "Bookmark this page\n",
    "During your first semester at MIT, you decide to make some pocket money by working a few hours every week at the Kendall Square store of the Harvard/MIT Cooperative (known as The Coop). Since you are a bit of a calculator geek, the store manager of The Coop in Kendall assigns you to their scientific calculator section of the store, and puts you in charge of keeping the most popular calculators on the shelves.\n",
    "\n",
    "A quick look at the inventory the store keeps of different calculator models reveals that they have several boxes of inventory of some models and just a few of others. “What if we run out?” you ask yourself. The realization that keeping the most popular calculators on the shelves is more complicated than just opening boxes from the storage room sets you on a path to analyze the demand of calculators.\n",
    "\n",
    "In order to better understand the demand for different best-selling calculator models, you ask the store manager for recent sales data. She promises she will get you this data. Soon after, you get an email from her with an attachment. “As promised, I have compiled for you the sales data for the past three months, aggregated by week, of our more popular calculator models. I hope this helps. Let me know what you find.”\n",
    "\n",
    "Please enter all your numerical answers with 4 significant figures.\n",
    "\n",
    "Download the spreadsheet with the data here:\n",
    "\n",
    "In Excel format (link CoopCalcData.xlsx here)"
   ]
  },
  {
   "cell_type": "code",
   "execution_count": 278,
   "metadata": {
    "collapsed": true
   },
   "outputs": [],
   "source": [
    "data = pd.read_excel('CoopCalcData.xlsx')"
   ]
  },
  {
   "cell_type": "code",
   "execution_count": 279,
   "metadata": {},
   "outputs": [
    {
     "data": {
      "text/html": [
       "<div>\n",
       "<style>\n",
       "    .dataframe thead tr:only-child th {\n",
       "        text-align: right;\n",
       "    }\n",
       "\n",
       "    .dataframe thead th {\n",
       "        text-align: left;\n",
       "    }\n",
       "\n",
       "    .dataframe tbody tr th {\n",
       "        vertical-align: top;\n",
       "    }\n",
       "</style>\n",
       "<table border=\"1\" class=\"dataframe\">\n",
       "  <thead>\n",
       "    <tr style=\"text-align: right;\">\n",
       "      <th></th>\n",
       "      <th>t (weeks)</th>\n",
       "      <th>TI-89 Titanium</th>\n",
       "      <th>TI Nspire CX CAS</th>\n",
       "      <th>HP 50G</th>\n",
       "      <th>HP Prime</th>\n",
       "      <th>Casio FX9750</th>\n",
       "      <th>Casio Prizm</th>\n",
       "    </tr>\n",
       "  </thead>\n",
       "  <tbody>\n",
       "    <tr>\n",
       "      <th>0</th>\n",
       "      <td>1</td>\n",
       "      <td>29</td>\n",
       "      <td>8</td>\n",
       "      <td>24</td>\n",
       "      <td>0</td>\n",
       "      <td>19</td>\n",
       "      <td>18</td>\n",
       "    </tr>\n",
       "    <tr>\n",
       "      <th>1</th>\n",
       "      <td>2</td>\n",
       "      <td>28</td>\n",
       "      <td>14</td>\n",
       "      <td>22</td>\n",
       "      <td>0</td>\n",
       "      <td>15</td>\n",
       "      <td>29</td>\n",
       "    </tr>\n",
       "    <tr>\n",
       "      <th>2</th>\n",
       "      <td>3</td>\n",
       "      <td>28</td>\n",
       "      <td>18</td>\n",
       "      <td>22</td>\n",
       "      <td>0</td>\n",
       "      <td>16</td>\n",
       "      <td>25</td>\n",
       "    </tr>\n",
       "    <tr>\n",
       "      <th>3</th>\n",
       "      <td>4</td>\n",
       "      <td>29</td>\n",
       "      <td>20</td>\n",
       "      <td>21</td>\n",
       "      <td>0</td>\n",
       "      <td>16</td>\n",
       "      <td>35</td>\n",
       "    </tr>\n",
       "    <tr>\n",
       "      <th>4</th>\n",
       "      <td>5</td>\n",
       "      <td>29</td>\n",
       "      <td>30</td>\n",
       "      <td>20</td>\n",
       "      <td>5</td>\n",
       "      <td>19</td>\n",
       "      <td>40</td>\n",
       "    </tr>\n",
       "    <tr>\n",
       "      <th>5</th>\n",
       "      <td>6</td>\n",
       "      <td>28</td>\n",
       "      <td>39</td>\n",
       "      <td>22</td>\n",
       "      <td>12</td>\n",
       "      <td>19</td>\n",
       "      <td>45</td>\n",
       "    </tr>\n",
       "    <tr>\n",
       "      <th>6</th>\n",
       "      <td>7</td>\n",
       "      <td>26</td>\n",
       "      <td>45</td>\n",
       "      <td>21</td>\n",
       "      <td>18</td>\n",
       "      <td>15</td>\n",
       "      <td>49</td>\n",
       "    </tr>\n",
       "    <tr>\n",
       "      <th>7</th>\n",
       "      <td>8</td>\n",
       "      <td>26</td>\n",
       "      <td>44</td>\n",
       "      <td>22</td>\n",
       "      <td>28</td>\n",
       "      <td>19</td>\n",
       "      <td>42</td>\n",
       "    </tr>\n",
       "    <tr>\n",
       "      <th>8</th>\n",
       "      <td>9</td>\n",
       "      <td>25</td>\n",
       "      <td>51</td>\n",
       "      <td>22</td>\n",
       "      <td>44</td>\n",
       "      <td>18</td>\n",
       "      <td>31</td>\n",
       "    </tr>\n",
       "    <tr>\n",
       "      <th>9</th>\n",
       "      <td>10</td>\n",
       "      <td>26</td>\n",
       "      <td>59</td>\n",
       "      <td>22</td>\n",
       "      <td>51</td>\n",
       "      <td>17</td>\n",
       "      <td>30</td>\n",
       "    </tr>\n",
       "    <tr>\n",
       "      <th>10</th>\n",
       "      <td>11</td>\n",
       "      <td>30</td>\n",
       "      <td>60</td>\n",
       "      <td>24</td>\n",
       "      <td>64</td>\n",
       "      <td>16</td>\n",
       "      <td>25</td>\n",
       "    </tr>\n",
       "    <tr>\n",
       "      <th>11</th>\n",
       "      <td>12</td>\n",
       "      <td>29</td>\n",
       "      <td>55</td>\n",
       "      <td>21</td>\n",
       "      <td>66</td>\n",
       "      <td>15</td>\n",
       "      <td>22</td>\n",
       "    </tr>\n",
       "  </tbody>\n",
       "</table>\n",
       "</div>"
      ],
      "text/plain": [
       "    t (weeks)  TI-89 Titanium  TI Nspire CX CAS  HP 50G  HP Prime  \\\n",
       "0           1              29                 8      24         0   \n",
       "1           2              28                14      22         0   \n",
       "2           3              28                18      22         0   \n",
       "3           4              29                20      21         0   \n",
       "4           5              29                30      20         5   \n",
       "5           6              28                39      22        12   \n",
       "6           7              26                45      21        18   \n",
       "7           8              26                44      22        28   \n",
       "8           9              25                51      22        44   \n",
       "9          10              26                59      22        51   \n",
       "10         11              30                60      24        64   \n",
       "11         12              29                55      21        66   \n",
       "\n",
       "    Casio FX9750  Casio Prizm  \n",
       "0             19           18  \n",
       "1             15           29  \n",
       "2             16           25  \n",
       "3             16           35  \n",
       "4             19           40  \n",
       "5             19           45  \n",
       "6             15           49  \n",
       "7             19           42  \n",
       "8             18           31  \n",
       "9             17           30  \n",
       "10            16           25  \n",
       "11            15           22  "
      ]
     },
     "execution_count": 279,
     "metadata": {},
     "output_type": "execute_result"
    }
   ],
   "source": [
    "data"
   ]
  },
  {
   "cell_type": "code",
   "execution_count": 286,
   "metadata": {},
   "outputs": [
    {
     "data": {
      "text/plain": [
       "<matplotlib.axes._subplots.AxesSubplot at 0x1160cf9b0>"
      ]
     },
     "execution_count": 286,
     "metadata": {},
     "output_type": "execute_result"
    },
    {
     "data": {
      "image/png": "[encoded data removed]",
      "text/plain": [
       "<matplotlib.figure.Figure at 0x10cea0940>"
      ]
     },
     "metadata": {},
     "output_type": "display_data"
    }
   ],
   "source": [
    "data.plot(x=0, y=data.columns[1:])"
   ]
  },
  {
   "cell_type": "markdown",
   "metadata": {},
   "source": [
    "### Part 2\n",
    "0 points possible (ungraded)\n",
    "Build a simple exponential smoothing model for the demand of the TI-89 Titanium. Use an alpha value of 0.333. What is your forecast for next week’s (t=13) demand of TI-89 Titanium? (Round your answer to the nearest whole number.) Assume that the forecast for period 1 is equal to the actual demand in period 1, that is, x^0,1 = 29."
   ]
  },
  {
   "cell_type": "code",
   "execution_count": 298,
   "metadata": {},
   "outputs": [
    {
     "name": "stdout",
     "output_type": "stream",
     "text": [
      "    t (weeks)  TI-89 Titanium  TI Nspire CX CAS  HP 50G  HP Prime  \\\n",
      "0           1              29                 8      24         0   \n",
      "1           2              28                14      22         0   \n",
      "2           3              28                18      22         0   \n",
      "3           4              29                20      21         0   \n",
      "4           5              29                30      20         5   \n",
      "5           6              28                39      22        12   \n",
      "6           7              26                45      21        18   \n",
      "7           8              26                44      22        28   \n",
      "8           9              25                51      22        44   \n",
      "9          10              26                59      22        51   \n",
      "10         11              30                60      24        64   \n",
      "11         12              29                55      21        66   \n",
      "\n",
      "    Casio FX9750  Casio Prizm         c  \n",
      "0             19           18  0.003871  \n",
      "1             15           29  0.005804  \n",
      "2             16           25  0.008701  \n",
      "3             16           35  0.013045  \n",
      "4             19           40  0.019558  \n",
      "5             19           45  0.029322  \n",
      "6             15           49  0.043962  \n",
      "7             19           42  0.065909  \n",
      "8             18           31  0.098815  \n",
      "9             17           30  0.148148  \n",
      "10            16           25  0.222111  \n",
      "11            15           22  0.333000  \n",
      "27.784109830870552\n"
     ]
    }
   ],
   "source": [
    "alpha = 0.333\n",
    "def c(r):\n",
    "    return alpha * (1-alpha)**(12 - r['t (weeks)'])\n",
    "\n",
    "data['c'] = data.apply(c, axis=1)\n",
    "res = (data['c'] * data['TI-89 Titanium']).sum()\n",
    "print(data)\n",
    "print(res)"
   ]
  },
  {
   "cell_type": "code",
   "execution_count": 300,
   "metadata": {},
   "outputs": [
    {
     "name": "stdout",
     "output_type": "stream",
     "text": [
      "19.864212449141\n",
      "28.468017578125\n",
      "29.059102098981\n"
     ]
    }
   ],
   "source": [
    "def c(r, alpha):\n",
    "    return alpha * (1-alpha)**(12 - r['t (weeks)'])\n",
    "\n",
    "data['c'] = data.apply(lambda x: c(x, alpha=0.1), axis=1)\n",
    "res = (data['c'] * data['TI-89 Titanium']).sum()\n",
    "print(res)\n",
    "\n",
    "data['c'] = data.apply(lambda x: c(x, alpha=0.5), axis=1)\n",
    "res = (data['c'] * data['TI-89 Titanium']).sum()\n",
    "print(res)\n",
    "\n",
    "\n",
    "data['c'] = data.apply(lambda x: c(x, alpha=0.9), axis=1)\n",
    "res = (data['c'] * data['TI-89 Titanium']).sum()\n",
    "print(res)"
   ]
  },
  {
   "cell_type": "markdown",
   "metadata": {
    "collapsed": true
   },
   "source": [
    "## Part 4\n",
    "\n",
    "Build a level and trend exponential smoothing model for the demand of the Casio Prizm. Use the following smoothing factors and values to initialize the model:\n",
    "\n",
    "\n",
    "\n",
    "Recall that the Alpha parameter is used for smoothing the level estimate, the Beta parameter is used for smoothing the trend estimate, and the Omega parameter is used for smoothing the MSE of the forecasts. \n",
    "\n",
    "You can download these values in the form of a spreadsheet here:\n",
    "\n",
    "In Excel format (link Prizm-Data.xlsx here)\n",
    "\n",
    "In LibreOffice format (link Prizm-Data.ods here)\n",
    "\n",
    "### Part 4a\n",
    "0 points possible (ungraded)\n",
    "What is your forecast for next week’s (t=13) demand of Casio Prizm in the Kendall Coop store? (Round your answer to the nearest integer.)\n",
    "\n",
    "Enter your answer here:"
   ]
  },
  {
   "cell_type": "code",
   "execution_count": 46,
   "metadata": {},
   "outputs": [],
   "source": [
    "data = pd.read_excel('Prizm-Data.xlsx', skiprows=5, \n",
    "                     names=['col1', 't', 'demand', 'a', 'b', 'x', 'e', 'e2', 'mse_est', 'rmse_est'])\n",
    "data.drop(['col1'], axis=1, inplace=True)"
   ]
  },
  {
   "cell_type": "code",
   "execution_count": 47,
   "metadata": {},
   "outputs": [
    {
     "data": {
      "text/html": [
       "<div>\n",
       "<style>\n",
       "    .dataframe thead tr:only-child th {\n",
       "        text-align: right;\n",
       "    }\n",
       "\n",
       "    .dataframe thead th {\n",
       "        text-align: left;\n",
       "    }\n",
       "\n",
       "    .dataframe tbody tr th {\n",
       "        vertical-align: top;\n",
       "    }\n",
       "</style>\n",
       "<table border=\"1\" class=\"dataframe\">\n",
       "  <thead>\n",
       "    <tr style=\"text-align: right;\">\n",
       "      <th></th>\n",
       "      <th>t</th>\n",
       "      <th>demand</th>\n",
       "      <th>a</th>\n",
       "      <th>b</th>\n",
       "      <th>x</th>\n",
       "      <th>e</th>\n",
       "      <th>e2</th>\n",
       "      <th>mse_est</th>\n",
       "      <th>rmse_est</th>\n",
       "    </tr>\n",
       "  </thead>\n",
       "  <tbody>\n",
       "    <tr>\n",
       "      <th>0</th>\n",
       "      <td>1</td>\n",
       "      <td>18</td>\n",
       "      <td>18.0</td>\n",
       "      <td>7.0</td>\n",
       "      <td>25.0</td>\n",
       "      <td>4.0</td>\n",
       "      <td>16.0</td>\n",
       "      <td>16.0</td>\n",
       "      <td>4.0</td>\n",
       "    </tr>\n",
       "    <tr>\n",
       "      <th>1</th>\n",
       "      <td>2</td>\n",
       "      <td>29</td>\n",
       "      <td>NaN</td>\n",
       "      <td>NaN</td>\n",
       "      <td>NaN</td>\n",
       "      <td>NaN</td>\n",
       "      <td>NaN</td>\n",
       "      <td>NaN</td>\n",
       "      <td>NaN</td>\n",
       "    </tr>\n",
       "    <tr>\n",
       "      <th>2</th>\n",
       "      <td>3</td>\n",
       "      <td>25</td>\n",
       "      <td>NaN</td>\n",
       "      <td>NaN</td>\n",
       "      <td>NaN</td>\n",
       "      <td>NaN</td>\n",
       "      <td>NaN</td>\n",
       "      <td>NaN</td>\n",
       "      <td>NaN</td>\n",
       "    </tr>\n",
       "    <tr>\n",
       "      <th>3</th>\n",
       "      <td>4</td>\n",
       "      <td>35</td>\n",
       "      <td>NaN</td>\n",
       "      <td>NaN</td>\n",
       "      <td>NaN</td>\n",
       "      <td>NaN</td>\n",
       "      <td>NaN</td>\n",
       "      <td>NaN</td>\n",
       "      <td>NaN</td>\n",
       "    </tr>\n",
       "    <tr>\n",
       "      <th>4</th>\n",
       "      <td>5</td>\n",
       "      <td>40</td>\n",
       "      <td>NaN</td>\n",
       "      <td>NaN</td>\n",
       "      <td>NaN</td>\n",
       "      <td>NaN</td>\n",
       "      <td>NaN</td>\n",
       "      <td>NaN</td>\n",
       "      <td>NaN</td>\n",
       "    </tr>\n",
       "    <tr>\n",
       "      <th>5</th>\n",
       "      <td>6</td>\n",
       "      <td>45</td>\n",
       "      <td>NaN</td>\n",
       "      <td>NaN</td>\n",
       "      <td>NaN</td>\n",
       "      <td>NaN</td>\n",
       "      <td>NaN</td>\n",
       "      <td>NaN</td>\n",
       "      <td>NaN</td>\n",
       "    </tr>\n",
       "    <tr>\n",
       "      <th>6</th>\n",
       "      <td>7</td>\n",
       "      <td>49</td>\n",
       "      <td>NaN</td>\n",
       "      <td>NaN</td>\n",
       "      <td>NaN</td>\n",
       "      <td>NaN</td>\n",
       "      <td>NaN</td>\n",
       "      <td>NaN</td>\n",
       "      <td>NaN</td>\n",
       "    </tr>\n",
       "    <tr>\n",
       "      <th>7</th>\n",
       "      <td>8</td>\n",
       "      <td>42</td>\n",
       "      <td>NaN</td>\n",
       "      <td>NaN</td>\n",
       "      <td>NaN</td>\n",
       "      <td>NaN</td>\n",
       "      <td>NaN</td>\n",
       "      <td>NaN</td>\n",
       "      <td>NaN</td>\n",
       "    </tr>\n",
       "    <tr>\n",
       "      <th>8</th>\n",
       "      <td>9</td>\n",
       "      <td>31</td>\n",
       "      <td>NaN</td>\n",
       "      <td>NaN</td>\n",
       "      <td>NaN</td>\n",
       "      <td>NaN</td>\n",
       "      <td>NaN</td>\n",
       "      <td>NaN</td>\n",
       "      <td>NaN</td>\n",
       "    </tr>\n",
       "    <tr>\n",
       "      <th>9</th>\n",
       "      <td>10</td>\n",
       "      <td>30</td>\n",
       "      <td>NaN</td>\n",
       "      <td>NaN</td>\n",
       "      <td>NaN</td>\n",
       "      <td>NaN</td>\n",
       "      <td>NaN</td>\n",
       "      <td>NaN</td>\n",
       "      <td>NaN</td>\n",
       "    </tr>\n",
       "    <tr>\n",
       "      <th>10</th>\n",
       "      <td>11</td>\n",
       "      <td>25</td>\n",
       "      <td>NaN</td>\n",
       "      <td>NaN</td>\n",
       "      <td>NaN</td>\n",
       "      <td>NaN</td>\n",
       "      <td>NaN</td>\n",
       "      <td>NaN</td>\n",
       "      <td>NaN</td>\n",
       "    </tr>\n",
       "    <tr>\n",
       "      <th>11</th>\n",
       "      <td>12</td>\n",
       "      <td>22</td>\n",
       "      <td>NaN</td>\n",
       "      <td>NaN</td>\n",
       "      <td>NaN</td>\n",
       "      <td>NaN</td>\n",
       "      <td>NaN</td>\n",
       "      <td>NaN</td>\n",
       "      <td>NaN</td>\n",
       "    </tr>\n",
       "  </tbody>\n",
       "</table>\n",
       "</div>"
      ],
      "text/plain": [
       "     t  demand     a    b     x    e    e2  mse_est  rmse_est\n",
       "0    1      18  18.0  7.0  25.0  4.0  16.0     16.0       4.0\n",
       "1    2      29   NaN  NaN   NaN  NaN   NaN      NaN       NaN\n",
       "2    3      25   NaN  NaN   NaN  NaN   NaN      NaN       NaN\n",
       "3    4      35   NaN  NaN   NaN  NaN   NaN      NaN       NaN\n",
       "4    5      40   NaN  NaN   NaN  NaN   NaN      NaN       NaN\n",
       "5    6      45   NaN  NaN   NaN  NaN   NaN      NaN       NaN\n",
       "6    7      49   NaN  NaN   NaN  NaN   NaN      NaN       NaN\n",
       "7    8      42   NaN  NaN   NaN  NaN   NaN      NaN       NaN\n",
       "8    9      31   NaN  NaN   NaN  NaN   NaN      NaN       NaN\n",
       "9   10      30   NaN  NaN   NaN  NaN   NaN      NaN       NaN\n",
       "10  11      25   NaN  NaN   NaN  NaN   NaN      NaN       NaN\n",
       "11  12      22   NaN  NaN   NaN  NaN   NaN      NaN       NaN"
      ]
     },
     "execution_count": 47,
     "metadata": {},
     "output_type": "execute_result"
    }
   ],
   "source": []
  },
  {
   "cell_type": "code",
   "execution_count": 54,
   "metadata": {},
   "outputs": [
    {
     "data": {
      "text/html": [
       "<div>\n",
       "<style>\n",
       "    .dataframe thead tr:only-child th {\n",
       "        text-align: right;\n",
       "    }\n",
       "\n",
       "    .dataframe thead th {\n",
       "        text-align: left;\n",
       "    }\n",
       "\n",
       "    .dataframe tbody tr th {\n",
       "        vertical-align: top;\n",
       "    }\n",
       "</style>\n",
       "<table border=\"1\" class=\"dataframe\">\n",
       "  <thead>\n",
       "    <tr style=\"text-align: right;\">\n",
       "      <th></th>\n",
       "      <th>t</th>\n",
       "      <th>demand</th>\n",
       "      <th>a</th>\n",
       "      <th>b</th>\n",
       "      <th>x</th>\n",
       "      <th>e</th>\n",
       "      <th>e2</th>\n",
       "      <th>mse_est</th>\n",
       "      <th>rmse_est</th>\n",
       "    </tr>\n",
       "  </thead>\n",
       "  <tbody>\n",
       "    <tr>\n",
       "      <th>0</th>\n",
       "      <td>1</td>\n",
       "      <td>18</td>\n",
       "      <td>18.000000</td>\n",
       "      <td>7.000000</td>\n",
       "      <td>25.000000</td>\n",
       "      <td>4.000000</td>\n",
       "      <td>16.000000</td>\n",
       "      <td>16.000000</td>\n",
       "      <td>4.000000</td>\n",
       "    </tr>\n",
       "    <tr>\n",
       "      <th>1</th>\n",
       "      <td>2</td>\n",
       "      <td>29</td>\n",
       "      <td>27.000000</td>\n",
       "      <td>7.660000</td>\n",
       "      <td>34.660000</td>\n",
       "      <td>4.000000</td>\n",
       "      <td>16.000000</td>\n",
       "      <td>16.000000</td>\n",
       "      <td>4.000000</td>\n",
       "    </tr>\n",
       "    <tr>\n",
       "      <th>2</th>\n",
       "      <td>3</td>\n",
       "      <td>25</td>\n",
       "      <td>29.830000</td>\n",
       "      <td>6.066100</td>\n",
       "      <td>35.896100</td>\n",
       "      <td>-9.660000</td>\n",
       "      <td>93.315600</td>\n",
       "      <td>31.463120</td>\n",
       "      <td>5.609200</td>\n",
       "    </tr>\n",
       "    <tr>\n",
       "      <th>3</th>\n",
       "      <td>4</td>\n",
       "      <td>35</td>\n",
       "      <td>35.448050</td>\n",
       "      <td>5.918243</td>\n",
       "      <td>41.366293</td>\n",
       "      <td>-0.896100</td>\n",
       "      <td>0.802995</td>\n",
       "      <td>25.331095</td>\n",
       "      <td>5.033001</td>\n",
       "    </tr>\n",
       "    <tr>\n",
       "      <th>4</th>\n",
       "      <td>5</td>\n",
       "      <td>40</td>\n",
       "      <td>40.683147</td>\n",
       "      <td>5.692805</td>\n",
       "      <td>46.375952</td>\n",
       "      <td>-1.366293</td>\n",
       "      <td>1.866758</td>\n",
       "      <td>20.638228</td>\n",
       "      <td>4.542932</td>\n",
       "    </tr>\n",
       "    <tr>\n",
       "      <th>5</th>\n",
       "      <td>6</td>\n",
       "      <td>45</td>\n",
       "      <td>45.687976</td>\n",
       "      <td>5.465773</td>\n",
       "      <td>51.153749</td>\n",
       "      <td>-1.375952</td>\n",
       "      <td>1.893243</td>\n",
       "      <td>16.889231</td>\n",
       "      <td>4.109651</td>\n",
       "    </tr>\n",
       "    <tr>\n",
       "      <th>6</th>\n",
       "      <td>7</td>\n",
       "      <td>49</td>\n",
       "      <td>50.076874</td>\n",
       "      <td>5.110404</td>\n",
       "      <td>55.187279</td>\n",
       "      <td>-2.153749</td>\n",
       "      <td>4.638634</td>\n",
       "      <td>14.439112</td>\n",
       "      <td>3.799883</td>\n",
       "    </tr>\n",
       "    <tr>\n",
       "      <th>7</th>\n",
       "      <td>8</td>\n",
       "      <td>42</td>\n",
       "      <td>48.593639</td>\n",
       "      <td>2.934503</td>\n",
       "      <td>51.528143</td>\n",
       "      <td>-13.187279</td>\n",
       "      <td>173.904325</td>\n",
       "      <td>46.332154</td>\n",
       "      <td>6.806773</td>\n",
       "    </tr>\n",
       "    <tr>\n",
       "      <th>8</th>\n",
       "      <td>9</td>\n",
       "      <td>31</td>\n",
       "      <td>41.264071</td>\n",
       "      <td>-0.452640</td>\n",
       "      <td>40.811431</td>\n",
       "      <td>-20.528143</td>\n",
       "      <td>421.404650</td>\n",
       "      <td>121.346653</td>\n",
       "      <td>11.015746</td>\n",
       "    </tr>\n",
       "    <tr>\n",
       "      <th>9</th>\n",
       "      <td>10</td>\n",
       "      <td>30</td>\n",
       "      <td>35.405716</td>\n",
       "      <td>-2.236526</td>\n",
       "      <td>33.169189</td>\n",
       "      <td>-10.811431</td>\n",
       "      <td>116.887047</td>\n",
       "      <td>120.454732</td>\n",
       "      <td>10.975187</td>\n",
       "    </tr>\n",
       "    <tr>\n",
       "      <th>10</th>\n",
       "      <td>11</td>\n",
       "      <td>25</td>\n",
       "      <td>29.084595</td>\n",
       "      <td>-3.584443</td>\n",
       "      <td>25.500152</td>\n",
       "      <td>-8.169189</td>\n",
       "      <td>66.735654</td>\n",
       "      <td>109.710917</td>\n",
       "      <td>10.474298</td>\n",
       "    </tr>\n",
       "    <tr>\n",
       "      <th>11</th>\n",
       "      <td>12</td>\n",
       "      <td>22</td>\n",
       "      <td>23.750076</td>\n",
       "      <td>-4.161968</td>\n",
       "      <td>19.588108</td>\n",
       "      <td>-3.500152</td>\n",
       "      <td>12.251065</td>\n",
       "      <td>90.218946</td>\n",
       "      <td>9.498365</td>\n",
       "    </tr>\n",
       "  </tbody>\n",
       "</table>\n",
       "</div>"
      ],
      "text/plain": [
       "     t  demand          a         b          x          e          e2  \\\n",
       "0    1      18  18.000000  7.000000  25.000000   4.000000   16.000000   \n",
       "1    2      29  27.000000  7.660000  34.660000   4.000000   16.000000   \n",
       "2    3      25  29.830000  6.066100  35.896100  -9.660000   93.315600   \n",
       "3    4      35  35.448050  5.918243  41.366293  -0.896100    0.802995   \n",
       "4    5      40  40.683147  5.692805  46.375952  -1.366293    1.866758   \n",
       "5    6      45  45.687976  5.465773  51.153749  -1.375952    1.893243   \n",
       "6    7      49  50.076874  5.110404  55.187279  -2.153749    4.638634   \n",
       "7    8      42  48.593639  2.934503  51.528143 -13.187279  173.904325   \n",
       "8    9      31  41.264071 -0.452640  40.811431 -20.528143  421.404650   \n",
       "9   10      30  35.405716 -2.236526  33.169189 -10.811431  116.887047   \n",
       "10  11      25  29.084595 -3.584443  25.500152  -8.169189   66.735654   \n",
       "11  12      22  23.750076 -4.161968  19.588108  -3.500152   12.251065   \n",
       "\n",
       "       mse_est   rmse_est  \n",
       "0    16.000000   4.000000  \n",
       "1    16.000000   4.000000  \n",
       "2    31.463120   5.609200  \n",
       "3    25.331095   5.033001  \n",
       "4    20.638228   4.542932  \n",
       "5    16.889231   4.109651  \n",
       "6    14.439112   3.799883  \n",
       "7    46.332154   6.806773  \n",
       "8   121.346653  11.015746  \n",
       "9   120.454732  10.975187  \n",
       "10  109.710917  10.474298  \n",
       "11   90.218946   9.498365  "
      ]
     },
     "execution_count": 54,
     "metadata": {},
     "output_type": "execute_result"
    }
   ],
   "source": [
    "alpha = 0.5\n",
    "beta = 0.33\n",
    "omega = 0.20\n",
    "\n",
    "def f(r):\n",
    "    idx = r.name\n",
    "    if idx-1 < 0:\n",
    "        return 0\n",
    "    a_p, b_p, x_p, mse_est_p = data.iloc[idx -1].loc[['a', 'b', 'x', 'mse_est']]\n",
    "    x_c = data.iloc[idx].loc['demand']\n",
    "    \n",
    "    a_c = alpha * x_c + (1-alpha) * (a_p + b_p)\n",
    "    b_c = beta * (a_c - a_p) + (1-beta) * b_p\n",
    "    #x_hat_c: represent the current estimation for next time step\n",
    "    x_hat_c = a_c + b_c\n",
    "    \n",
    "    e = x_c - x_p\n",
    "    e2 = e**2\n",
    "    \n",
    "    mse_est = omega * (x_c - x_p)**2 + (1-omega) * mse_est_p\n",
    "    rmse_est = np.sqrt(mse_est)\n",
    "    \n",
    "    data.set_value(index=idx, col='a', value=a_c)\n",
    "    data.set_value(index=idx, col='b', value=b_c)\n",
    "    data.set_value(index=idx, col='x', value=x_hat_c)\n",
    "    data.set_value(index=idx, col='e', value=e)\n",
    "    data.set_value(index=idx, col='e2', value=e2)\n",
    "    data.set_value(index=idx, col='mse_est', value=mse_est)\n",
    "    data.set_value(index=idx, col='rmse_est', value=rmse_est)\n",
    "\n",
    "data.apply(f, axis=1)\n",
    "\n",
    "data"
   ]
  },
  {
   "cell_type": "markdown",
   "metadata": {},
   "source": [
    "### Part 6a\n",
    "0 points possible (ungraded)\n",
    "Build an exponential smoothing approach with damped trends to forecast the demand for the HP Prime. Use the smoothing factors and values found below to initialize the model.\n",
    "\n",
    "\n",
    "\n",
    "You can download these values in the form of a spreadsheet here:\n",
    "\n",
    "•\tIn Excel format (link Prime-Data.xlsx here)\n",
    "\n",
    "•\tIn LibreOffice format (link Prime-Data.ods here)\n",
    "\n",
    "What is your forecast for next week’s (t=13) demand of HP Prime in the Kendall Coop store? (Round your answer to the nearest integer.)"
   ]
  },
  {
   "cell_type": "code",
   "execution_count": 80,
   "metadata": {},
   "outputs": [],
   "source": [
    "data = pd.read_excel('Prime-Data.xlsx', skiprows=4, names=['t', 'demand', 'a', 'b', 'x'])"
   ]
  },
  {
   "cell_type": "code",
   "execution_count": 81,
   "metadata": {},
   "outputs": [
    {
     "data": {
      "text/html": [
       "<div>\n",
       "<style>\n",
       "    .dataframe thead tr:only-child th {\n",
       "        text-align: right;\n",
       "    }\n",
       "\n",
       "    .dataframe thead th {\n",
       "        text-align: left;\n",
       "    }\n",
       "\n",
       "    .dataframe tbody tr th {\n",
       "        vertical-align: top;\n",
       "    }\n",
       "</style>\n",
       "<table border=\"1\" class=\"dataframe\">\n",
       "  <thead>\n",
       "    <tr style=\"text-align: right;\">\n",
       "      <th></th>\n",
       "      <th>t</th>\n",
       "      <th>demand</th>\n",
       "      <th>a</th>\n",
       "      <th>b</th>\n",
       "      <th>x</th>\n",
       "    </tr>\n",
       "  </thead>\n",
       "  <tbody>\n",
       "    <tr>\n",
       "      <th>0</th>\n",
       "      <td>5</td>\n",
       "      <td>5</td>\n",
       "      <td>5.0</td>\n",
       "      <td>5.0</td>\n",
       "      <td>NaN</td>\n",
       "    </tr>\n",
       "    <tr>\n",
       "      <th>1</th>\n",
       "      <td>6</td>\n",
       "      <td>12</td>\n",
       "      <td>NaN</td>\n",
       "      <td>NaN</td>\n",
       "      <td>NaN</td>\n",
       "    </tr>\n",
       "    <tr>\n",
       "      <th>2</th>\n",
       "      <td>7</td>\n",
       "      <td>18</td>\n",
       "      <td>NaN</td>\n",
       "      <td>NaN</td>\n",
       "      <td>NaN</td>\n",
       "    </tr>\n",
       "    <tr>\n",
       "      <th>3</th>\n",
       "      <td>8</td>\n",
       "      <td>28</td>\n",
       "      <td>NaN</td>\n",
       "      <td>NaN</td>\n",
       "      <td>NaN</td>\n",
       "    </tr>\n",
       "    <tr>\n",
       "      <th>4</th>\n",
       "      <td>9</td>\n",
       "      <td>44</td>\n",
       "      <td>NaN</td>\n",
       "      <td>NaN</td>\n",
       "      <td>NaN</td>\n",
       "    </tr>\n",
       "    <tr>\n",
       "      <th>5</th>\n",
       "      <td>10</td>\n",
       "      <td>51</td>\n",
       "      <td>NaN</td>\n",
       "      <td>NaN</td>\n",
       "      <td>NaN</td>\n",
       "    </tr>\n",
       "    <tr>\n",
       "      <th>6</th>\n",
       "      <td>11</td>\n",
       "      <td>64</td>\n",
       "      <td>NaN</td>\n",
       "      <td>NaN</td>\n",
       "      <td>NaN</td>\n",
       "    </tr>\n",
       "    <tr>\n",
       "      <th>7</th>\n",
       "      <td>12</td>\n",
       "      <td>66</td>\n",
       "      <td>NaN</td>\n",
       "      <td>NaN</td>\n",
       "      <td>NaN</td>\n",
       "    </tr>\n",
       "  </tbody>\n",
       "</table>\n",
       "</div>"
      ],
      "text/plain": [
       "    t  demand    a    b   x\n",
       "0   5       5  5.0  5.0 NaN\n",
       "1   6      12  NaN  NaN NaN\n",
       "2   7      18  NaN  NaN NaN\n",
       "3   8      28  NaN  NaN NaN\n",
       "4   9      44  NaN  NaN NaN\n",
       "5  10      51  NaN  NaN NaN\n",
       "6  11      64  NaN  NaN NaN\n",
       "7  12      66  NaN  NaN NaN"
      ]
     },
     "execution_count": 81,
     "metadata": {},
     "output_type": "execute_result"
    }
   ],
   "source": [
    "alpha = 0.5\n",
    "beta = 0.33 \n",
    "phi = 0.75\n",
    "data"
   ]
  },
  {
   "cell_type": "markdown",
   "metadata": {},
   "source": [
    "#### Approach 1"
   ]
  },
  {
   "cell_type": "code",
   "execution_count": 82,
   "metadata": {},
   "outputs": [
    {
     "name": "stdout",
     "output_type": "stream",
     "text": [
      "18.4983062744\n"
     ]
    }
   ],
   "source": [
    "a_5 = 5 \n",
    "b_5 = 5\n",
    "x_5_13 = a_5 + b_5 * (np.sum([phi**i for i in range(1, 9)]))\n",
    "print(x_5_13)"
   ]
  },
  {
   "cell_type": "markdown",
   "metadata": {},
   "source": [
    "#### Approach 2"
   ]
  },
  {
   "cell_type": "code",
   "execution_count": 85,
   "metadata": {},
   "outputs": [
    {
     "data": {
      "text/html": [
       "<div>\n",
       "<style>\n",
       "    .dataframe thead tr:only-child th {\n",
       "        text-align: right;\n",
       "    }\n",
       "\n",
       "    .dataframe thead th {\n",
       "        text-align: left;\n",
       "    }\n",
       "\n",
       "    .dataframe tbody tr th {\n",
       "        vertical-align: top;\n",
       "    }\n",
       "</style>\n",
       "<table border=\"1\" class=\"dataframe\">\n",
       "  <thead>\n",
       "    <tr style=\"text-align: right;\">\n",
       "      <th></th>\n",
       "      <th>t</th>\n",
       "      <th>demand</th>\n",
       "      <th>a</th>\n",
       "      <th>b</th>\n",
       "      <th>x</th>\n",
       "    </tr>\n",
       "  </thead>\n",
       "  <tbody>\n",
       "    <tr>\n",
       "      <th>0</th>\n",
       "      <td>5</td>\n",
       "      <td>5</td>\n",
       "      <td>5.000000</td>\n",
       "      <td>5.000000</td>\n",
       "      <td>8.750000</td>\n",
       "    </tr>\n",
       "    <tr>\n",
       "      <th>1</th>\n",
       "      <td>6</td>\n",
       "      <td>12</td>\n",
       "      <td>10.375000</td>\n",
       "      <td>4.286250</td>\n",
       "      <td>13.589688</td>\n",
       "    </tr>\n",
       "    <tr>\n",
       "      <th>2</th>\n",
       "      <td>7</td>\n",
       "      <td>18</td>\n",
       "      <td>15.794844</td>\n",
       "      <td>3.942389</td>\n",
       "      <td>18.751636</td>\n",
       "    </tr>\n",
       "    <tr>\n",
       "      <th>3</th>\n",
       "      <td>8</td>\n",
       "      <td>28</td>\n",
       "      <td>23.375818</td>\n",
       "      <td>4.482772</td>\n",
       "      <td>26.737897</td>\n",
       "    </tr>\n",
       "    <tr>\n",
       "      <th>4</th>\n",
       "      <td>9</td>\n",
       "      <td>44</td>\n",
       "      <td>35.368948</td>\n",
       "      <td>6.210326</td>\n",
       "      <td>40.026693</td>\n",
       "    </tr>\n",
       "    <tr>\n",
       "      <th>5</th>\n",
       "      <td>10</td>\n",
       "      <td>51</td>\n",
       "      <td>45.513346</td>\n",
       "      <td>6.468340</td>\n",
       "      <td>50.364602</td>\n",
       "    </tr>\n",
       "    <tr>\n",
       "      <th>6</th>\n",
       "      <td>11</td>\n",
       "      <td>64</td>\n",
       "      <td>57.182301</td>\n",
       "      <td>7.101096</td>\n",
       "      <td>62.508123</td>\n",
       "    </tr>\n",
       "    <tr>\n",
       "      <th>7</th>\n",
       "      <td>12</td>\n",
       "      <td>66</td>\n",
       "      <td>64.254061</td>\n",
       "      <td>5.901982</td>\n",
       "      <td>68.680548</td>\n",
       "    </tr>\n",
       "  </tbody>\n",
       "</table>\n",
       "</div>"
      ],
      "text/plain": [
       "    t  demand          a         b          x\n",
       "0   5       5   5.000000  5.000000   8.750000\n",
       "1   6      12  10.375000  4.286250  13.589688\n",
       "2   7      18  15.794844  3.942389  18.751636\n",
       "3   8      28  23.375818  4.482772  26.737897\n",
       "4   9      44  35.368948  6.210326  40.026693\n",
       "5  10      51  45.513346  6.468340  50.364602\n",
       "6  11      64  57.182301  7.101096  62.508123\n",
       "7  12      66  64.254061  5.901982  68.680548"
      ]
     },
     "execution_count": 85,
     "metadata": {},
     "output_type": "execute_result"
    }
   ],
   "source": [
    "# x_c_n is the current estimation at time t for time step t+1, c:current, n:next\n",
    "def f(r):\n",
    "    idx = r.name\n",
    "    \n",
    "    if idx-1 <0:\n",
    "        return 0\n",
    "    \n",
    "    a_p, b_p, x_p = data.iloc[idx-1].loc[['a', 'b', 'x']]\n",
    "    \n",
    "    x_c = data.iloc[idx].loc['demand']\n",
    "\n",
    "    a_c = alpha * x_c + (1-alpha)*(a_p + phi * b_p)\n",
    "    b_c = beta * (a_c - a_p) + (1-beta) * phi * b_p\n",
    "    x_hat_c = a_c + b_c * phi\n",
    "    \n",
    "    data.set_value(index=idx, col='a', value=a_c)\n",
    "    data.set_value(index=idx, col='b', value=b_c)\n",
    "    data.set_value(index=idx, col='x', value=x_hat_c)\n",
    "    \n",
    "data.apply(f, axis=1)\n",
    "\n",
    "data.set_value(index=0, col='x', value=data.iloc[0]['a'] + phi*data.iloc[0]['b'])\n",
    "\n",
    "data"
   ]
  },
  {
   "cell_type": "code",
   "execution_count": null,
   "metadata": {
    "collapsed": true
   },
   "outputs": [],
   "source": []
  }
 ],
 "metadata": {
  "kernelspec": {
   "display_name": "Python 3",
   "language": "python",
   "name": "python3"
  },
  "language_info": {
   "codemirror_mode": {
    "name": "ipython",
    "version": 3
   },
   "file_extension": ".py",
   "mimetype": "text/x-python",
   "name": "python",
   "nbconvert_exporter": "python",
   "pygments_lexer": "ipython3",
   "version": "3.6.3"
  }
 },
 "nbformat": 4,
 "nbformat_minor": 2
}
